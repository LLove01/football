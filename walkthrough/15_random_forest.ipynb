{
 "cells": [
  {
   "cell_type": "markdown",
   "metadata": {},
   "source": [
    "Linear, logistic regression - useful for \n",
    "* Analyzing the relationships between data (coefficients)\n",
    "* Making predictions \n",
    "\n",
    "Random Forest - flexible, fewer assumptions about your data. Great for predictions, useless for relationships between variables. Theory on page 245."
   ]
  },
  {
   "cell_type": "code",
   "execution_count": 1,
   "metadata": {},
   "outputs": [],
   "source": [
    "import pandas as pd\n",
    "from sklearn.linear_model import LogisticRegression\n",
    "import numpy as np\n",
    "from patsy import dmatrices\n",
    "from pandas import DataFrame, Series\n",
    "from sklearn.ensemble import RandomForestClassifier\n",
    "from sklearn.model_selection import train_test_split, cross_val_score\n",
    "from os import path\n",
    "\n",
    "# Directory where data is stored\n",
    "DATA_DIR = '../resources/code-soccer-files-main/data'\n",
    "\n",
    "df = pd.read_csv(path.join(DATA_DIR, 'player_match.csv'))"
   ]
  },
  {
   "cell_type": "code",
   "execution_count": 2,
   "metadata": {},
   "outputs": [
    {
     "data": {
      "text/html": [
       "<style>#sk-container-id-1 {color: black;background-color: white;}#sk-container-id-1 pre{padding: 0;}#sk-container-id-1 div.sk-toggleable {background-color: white;}#sk-container-id-1 label.sk-toggleable__label {cursor: pointer;display: block;width: 100%;margin-bottom: 0;padding: 0.3em;box-sizing: border-box;text-align: center;}#sk-container-id-1 label.sk-toggleable__label-arrow:before {content: \"▸\";float: left;margin-right: 0.25em;color: #696969;}#sk-container-id-1 label.sk-toggleable__label-arrow:hover:before {color: black;}#sk-container-id-1 div.sk-estimator:hover label.sk-toggleable__label-arrow:before {color: black;}#sk-container-id-1 div.sk-toggleable__content {max-height: 0;max-width: 0;overflow: hidden;text-align: left;background-color: #f0f8ff;}#sk-container-id-1 div.sk-toggleable__content pre {margin: 0.2em;color: black;border-radius: 0.25em;background-color: #f0f8ff;}#sk-container-id-1 input.sk-toggleable__control:checked~div.sk-toggleable__content {max-height: 200px;max-width: 100%;overflow: auto;}#sk-container-id-1 input.sk-toggleable__control:checked~label.sk-toggleable__label-arrow:before {content: \"▾\";}#sk-container-id-1 div.sk-estimator input.sk-toggleable__control:checked~label.sk-toggleable__label {background-color: #d4ebff;}#sk-container-id-1 div.sk-label input.sk-toggleable__control:checked~label.sk-toggleable__label {background-color: #d4ebff;}#sk-container-id-1 input.sk-hidden--visually {border: 0;clip: rect(1px 1px 1px 1px);clip: rect(1px, 1px, 1px, 1px);height: 1px;margin: -1px;overflow: hidden;padding: 0;position: absolute;width: 1px;}#sk-container-id-1 div.sk-estimator {font-family: monospace;background-color: #f0f8ff;border: 1px dotted black;border-radius: 0.25em;box-sizing: border-box;margin-bottom: 0.5em;}#sk-container-id-1 div.sk-estimator:hover {background-color: #d4ebff;}#sk-container-id-1 div.sk-parallel-item::after {content: \"\";width: 100%;border-bottom: 1px solid gray;flex-grow: 1;}#sk-container-id-1 div.sk-label:hover label.sk-toggleable__label {background-color: #d4ebff;}#sk-container-id-1 div.sk-serial::before {content: \"\";position: absolute;border-left: 1px solid gray;box-sizing: border-box;top: 0;bottom: 0;left: 50%;z-index: 0;}#sk-container-id-1 div.sk-serial {display: flex;flex-direction: column;align-items: center;background-color: white;padding-right: 0.2em;padding-left: 0.2em;position: relative;}#sk-container-id-1 div.sk-item {position: relative;z-index: 1;}#sk-container-id-1 div.sk-parallel {display: flex;align-items: stretch;justify-content: center;background-color: white;position: relative;}#sk-container-id-1 div.sk-item::before, #sk-container-id-1 div.sk-parallel-item::before {content: \"\";position: absolute;border-left: 1px solid gray;box-sizing: border-box;top: 0;bottom: 0;left: 50%;z-index: -1;}#sk-container-id-1 div.sk-parallel-item {display: flex;flex-direction: column;z-index: 1;position: relative;background-color: white;}#sk-container-id-1 div.sk-parallel-item:first-child::after {align-self: flex-end;width: 50%;}#sk-container-id-1 div.sk-parallel-item:last-child::after {align-self: flex-start;width: 50%;}#sk-container-id-1 div.sk-parallel-item:only-child::after {width: 0;}#sk-container-id-1 div.sk-dashed-wrapped {border: 1px dashed gray;margin: 0 0.4em 0.5em 0.4em;box-sizing: border-box;padding-bottom: 0.4em;background-color: white;}#sk-container-id-1 div.sk-label label {font-family: monospace;font-weight: bold;display: inline-block;line-height: 1.2em;}#sk-container-id-1 div.sk-label-container {text-align: center;}#sk-container-id-1 div.sk-container {/* jupyter's `normalize.less` sets `[hidden] { display: none; }` but bootstrap.min.css set `[hidden] { display: none !important; }` so we also need the `!important` here to be able to override the default hidden behavior on the sphinx rendered scikit-learn.org. See: https://github.com/scikit-learn/scikit-learn/issues/21755 */display: inline-block !important;position: relative;}#sk-container-id-1 div.sk-text-repr-fallback {display: none;}</style><div id=\"sk-container-id-1\" class=\"sk-top-container\"><div class=\"sk-text-repr-fallback\"><pre>RandomForestClassifier()</pre><b>In a Jupyter environment, please rerun this cell to show the HTML representation or trust the notebook. <br />On GitHub, the HTML representation is unable to render, please try loading this page with nbviewer.org.</b></div><div class=\"sk-container\" hidden><div class=\"sk-item\"><div class=\"sk-estimator sk-toggleable\"><input class=\"sk-toggleable__control sk-hidden--visually\" id=\"sk-estimator-id-1\" type=\"checkbox\" checked><label for=\"sk-estimator-id-1\" class=\"sk-toggleable__label sk-toggleable__label-arrow\">RandomForestClassifier</label><div class=\"sk-toggleable__content\"><pre>RandomForestClassifier()</pre></div></div></div></div></div>"
      ],
      "text/plain": [
       "RandomForestClassifier()"
      ]
     },
     "execution_count": 2,
     "metadata": {},
     "output_type": "execute_result"
    }
   ],
   "source": [
    "# In this case we want to classify the player position  \n",
    "xvars = ['shot', 'goal', 'assist', 'pass', 'pass_accurate', 'tackle', 'accel',\n",
    "        'counter', 'opportunity', 'keypass', 'own_goal', 'interception',\n",
    "        'smart', 'clearance', 'cross', 'air_duel', 'air_duel_won',\n",
    "        'gk_leave_line', 'gk_save_attempt', 'throw', 'corner', 'started']\n",
    "\n",
    "yvar = 'pos'\n",
    "\n",
    "df[xvars + [yvar]].head()\n",
    "df[yvar].value_counts(normalize=True)\n",
    "\n",
    "# splitting into two sets - one for learning, the other for testing\n",
    "train, test = train_test_split(df, test_size=0.20)\n",
    "\n",
    "model = RandomForestClassifier(n_estimators=100) # n-estimators (number of different trees the algorithm will run)\n",
    "model.fit(train[xvars], train[yvar])\n"
   ]
  },
  {
   "cell_type": "code",
   "execution_count": 5,
   "metadata": {},
   "outputs": [
    {
     "data": {
      "text/plain": [
       "0.7134328358208956"
      ]
     },
     "execution_count": 5,
     "metadata": {},
     "output_type": "execute_result"
    }
   ],
   "source": [
    "# checking how the modes does on the holdout set\n",
    "test['pos_hat'] = model.predict(test[xvars])\n",
    "test['correct'] = (test['pos_hat'] == test[yvar])\n",
    "test['correct'].mean()\n"
   ]
  },
  {
   "cell_type": "code",
   "execution_count": 8,
   "metadata": {},
   "outputs": [
    {
     "data": {
      "text/html": [
       "<div>\n",
       "<style scoped>\n",
       "    .dataframe tbody tr th:only-of-type {\n",
       "        vertical-align: middle;\n",
       "    }\n",
       "\n",
       "    .dataframe tbody tr th {\n",
       "        vertical-align: top;\n",
       "    }\n",
       "\n",
       "    .dataframe thead th {\n",
       "        text-align: right;\n",
       "    }\n",
       "</style>\n",
       "<table border=\"1\" class=\"dataframe\">\n",
       "  <thead>\n",
       "    <tr style=\"text-align: right;\">\n",
       "      <th></th>\n",
       "      <th>DEF</th>\n",
       "      <th>FWD</th>\n",
       "      <th>GKP</th>\n",
       "      <th>MID</th>\n",
       "    </tr>\n",
       "  </thead>\n",
       "  <tbody>\n",
       "    <tr>\n",
       "      <th>802</th>\n",
       "      <td>0.19</td>\n",
       "      <td>0.25</td>\n",
       "      <td>0.00</td>\n",
       "      <td>0.56</td>\n",
       "    </tr>\n",
       "    <tr>\n",
       "      <th>300</th>\n",
       "      <td>0.22</td>\n",
       "      <td>0.43</td>\n",
       "      <td>0.00</td>\n",
       "      <td>0.35</td>\n",
       "    </tr>\n",
       "    <tr>\n",
       "      <th>1050</th>\n",
       "      <td>0.49</td>\n",
       "      <td>0.04</td>\n",
       "      <td>0.00</td>\n",
       "      <td>0.47</td>\n",
       "    </tr>\n",
       "    <tr>\n",
       "      <th>639</th>\n",
       "      <td>0.41</td>\n",
       "      <td>0.07</td>\n",
       "      <td>0.00</td>\n",
       "      <td>0.52</td>\n",
       "    </tr>\n",
       "    <tr>\n",
       "      <th>427</th>\n",
       "      <td>0.87</td>\n",
       "      <td>0.01</td>\n",
       "      <td>0.04</td>\n",
       "      <td>0.08</td>\n",
       "    </tr>\n",
       "  </tbody>\n",
       "</table>\n",
       "</div>"
      ],
      "text/plain": [
       "       DEF   FWD   GKP   MID\n",
       "802   0.19  0.25  0.00  0.56\n",
       "300   0.22  0.43  0.00  0.35\n",
       "1050  0.49  0.04  0.00  0.47\n",
       "639   0.41  0.07  0.00  0.52\n",
       "427   0.87  0.01  0.04  0.08"
      ]
     },
     "execution_count": 8,
     "metadata": {},
     "output_type": "execute_result"
    }
   ],
   "source": [
    "# running each of out test samples through each of the 100 trees and checking frequency\n",
    "model.predict_proba(test[xvars])\n",
    "\n",
    "# putting into a dataframe\n",
    "probs = DataFrame(model.predict_proba(test[xvars]),\n",
    "                  index=test.index,\n",
    "                  columns=model.classes_) # must have the same index as test\n",
    "probs.head()\n"
   ]
  },
  {
   "cell_type": "code",
   "execution_count": 11,
   "metadata": {},
   "outputs": [
    {
     "name": "stdout",
     "output_type": "stream",
     "text": [
      "               name      team  pos pos_hat  correct   DEF   FWD   GKP   MID\n",
      "1315   M. Mandžukić   Croatia  FWD     DEF    False  0.48  0.27  0.00  0.25\n",
      "1330    A. Kramarić   Croatia  FWD     MID    False  0.08  0.21  0.02  0.69\n",
      "1075      C. N'Doye   Senegal  MID     FWD    False  0.19  0.43  0.01  0.37\n",
      "1207       D. Sakho   Senegal  FWD     FWD     True  0.07  0.53  0.00  0.40\n",
      "237    Adrien Silva  Portugal  MID     DEF    False  0.43  0.36  0.01  0.20\n",
      "715   N. Milenković    Serbia  DEF     DEF     True  0.98  0.00  0.00  0.02\n",
      "85        L. Suárez   Uruguay  FWD     FWD     True  0.02  0.72  0.00  0.26\n",
      "1622      R. Lukaku   Belgium  FWD     FWD     True  0.08  0.52  0.02  0.38\n",
      "1466     J. Giménez   Uruguay  DEF     DEF     True  0.57  0.17  0.00  0.26\n",
      "1088    D. Kownacki    Poland  FWD     FWD     True  0.00  0.60  0.00  0.40\n",
      "\n"
     ]
    },
    {
     "data": {
      "text/html": [
       "<div>\n",
       "<style scoped>\n",
       "    .dataframe tbody tr th:only-of-type {\n",
       "        vertical-align: middle;\n",
       "    }\n",
       "\n",
       "    .dataframe tbody tr th {\n",
       "        vertical-align: top;\n",
       "    }\n",
       "\n",
       "    .dataframe thead th {\n",
       "        text-align: right;\n",
       "    }\n",
       "</style>\n",
       "<table border=\"1\" class=\"dataframe\">\n",
       "  <thead>\n",
       "    <tr style=\"text-align: right;\">\n",
       "      <th></th>\n",
       "      <th>correct</th>\n",
       "      <th>FWD</th>\n",
       "      <th>MID</th>\n",
       "      <th>DEF</th>\n",
       "      <th>GKP</th>\n",
       "    </tr>\n",
       "    <tr>\n",
       "      <th>pos</th>\n",
       "      <th></th>\n",
       "      <th></th>\n",
       "      <th></th>\n",
       "      <th></th>\n",
       "      <th></th>\n",
       "    </tr>\n",
       "  </thead>\n",
       "  <tbody>\n",
       "    <tr>\n",
       "      <th>DEF</th>\n",
       "      <td>0.787879</td>\n",
       "      <td>0.060803</td>\n",
       "      <td>0.277603</td>\n",
       "      <td>0.659473</td>\n",
       "      <td>0.002121</td>\n",
       "    </tr>\n",
       "    <tr>\n",
       "      <th>FWD</th>\n",
       "      <td>0.532468</td>\n",
       "      <td>0.504688</td>\n",
       "      <td>0.397147</td>\n",
       "      <td>0.095308</td>\n",
       "      <td>0.002857</td>\n",
       "    </tr>\n",
       "    <tr>\n",
       "      <th>GKP</th>\n",
       "      <td>1.000000</td>\n",
       "      <td>0.014516</td>\n",
       "      <td>0.047097</td>\n",
       "      <td>0.031290</td>\n",
       "      <td>0.907097</td>\n",
       "    </tr>\n",
       "    <tr>\n",
       "      <th>MID</th>\n",
       "      <td>0.695312</td>\n",
       "      <td>0.258157</td>\n",
       "      <td>0.524793</td>\n",
       "      <td>0.205175</td>\n",
       "      <td>0.011875</td>\n",
       "    </tr>\n",
       "  </tbody>\n",
       "</table>\n",
       "</div>"
      ],
      "text/plain": [
       "      correct       FWD       MID       DEF       GKP\n",
       "pos                                                  \n",
       "DEF  0.787879  0.060803  0.277603  0.659473  0.002121\n",
       "FWD  0.532468  0.504688  0.397147  0.095308  0.002857\n",
       "GKP  1.000000  0.014516  0.047097  0.031290  0.907097\n",
       "MID  0.695312  0.258157  0.524793  0.205175  0.011875"
      ]
     },
     "execution_count": 11,
     "metadata": {},
     "output_type": "execute_result"
    }
   ],
   "source": [
    "# comparing to the actual position\n",
    "results = pd.concat([\n",
    "    test[['name', 'team', 'pos', 'pos_hat', 'correct']],\n",
    "    probs], axis=1)\n",
    "\n",
    "print(results.sample(10).round(2))\n",
    "print()\n",
    "results.groupby('pos')[['correct', 'FWD', 'MID', 'DEF', 'GKP']].mean()"
   ]
  },
  {
   "cell_type": "code",
   "execution_count": 13,
   "metadata": {},
   "outputs": [
    {
     "name": "stdout",
     "output_type": "stream",
     "text": [
      "[0.78571429 0.73652695 0.7245509  0.69461078 0.73652695 0.64670659\n",
      " 0.77844311 0.73053892 0.66467066 0.68862275]\n"
     ]
    },
    {
     "data": {
      "text/plain": [
       "0.7186911890504705"
      ]
     },
     "execution_count": 13,
     "metadata": {},
     "output_type": "execute_result"
    }
   ],
   "source": [
    "# Cross validation - reduces noise (multiple holdout sets and blending them together)\n",
    "model = RandomForestClassifier(n_estimators=100)\n",
    "scores = cross_val_score(model, df[xvars], df[yvar], cv=10)\n",
    "print(scores)\n",
    "scores.mean()"
   ]
  },
  {
   "cell_type": "code",
   "execution_count": 14,
   "metadata": {},
   "outputs": [
    {
     "data": {
      "text/plain": [
       "pass_accurate      0.116191\n",
       "pass               0.115827\n",
       "throw              0.104585\n",
       "clearance          0.081634\n",
       "air_duel           0.073670\n",
       "interception       0.072313\n",
       "gk_leave_line      0.050324\n",
       "counter            0.048219\n",
       "air_duel_won       0.047913\n",
       "shot               0.043471\n",
       "gk_save_attempt    0.043092\n",
       "cross              0.041080\n",
       "opportunity        0.033653\n",
       "accel              0.029428\n",
       "tackle             0.024206\n",
       "corner             0.023893\n",
       "keypass            0.017293\n",
       "started            0.017133\n",
       "goal               0.009751\n",
       "assist             0.005339\n",
       "own_goal           0.000985\n",
       "smart              0.000000\n",
       "dtype: float64"
      ]
     },
     "execution_count": 14,
     "metadata": {},
     "output_type": "execute_result"
    }
   ],
   "source": [
    "# Feature importance (made the biggest difference in splitting correctly)\n",
    "model = RandomForestClassifier(n_estimators=100)\n",
    "model.fit(df[xvars], df[yvar])  # running model fitting on entire dataset\n",
    "Series(model.feature_importances_, xvars).sort_values(ascending=False)"
   ]
  }
 ],
 "metadata": {
  "kernelspec": {
   "display_name": "Python 3",
   "language": "python",
   "name": "python3"
  },
  "language_info": {
   "codemirror_mode": {
    "name": "ipython",
    "version": 3
   },
   "file_extension": ".py",
   "mimetype": "text/x-python",
   "name": "python",
   "nbconvert_exporter": "python",
   "pygments_lexer": "ipython3",
   "version": "3.10.2"
  },
  "orig_nbformat": 4
 },
 "nbformat": 4,
 "nbformat_minor": 2
}
