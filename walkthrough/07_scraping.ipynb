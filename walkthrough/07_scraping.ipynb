{
 "cells": [
  {
   "cell_type": "code",
   "execution_count": 1,
   "metadata": {},
   "outputs": [],
   "source": [
    "table_html = \"\"\"\n",
    "<html>\n",
    "  <table>\n",
    "    <tr>\n",
    "     <th>Name</th>\n",
    "     <th>Date</th>\n",
    "     <th>Team</th>\n",
    "     <th>Opp</th>\n",
    "     <th>Shots</th>\n",
    "     <th>Goals</th>\n",
    "    </tr>\n",
    "    <tr>\n",
    "     <td>Lionel Messi</td>\n",
    "     <td>2018-06-16</td>\n",
    "     <td>Argentina</td>\n",
    "     <td>Iceland</td>\n",
    "     <td>7</td>\n",
    "     <td>0</td>\n",
    "    </tr>\n",
    "    <tr>\n",
    "     <td>Luka Modric</td>\n",
    "     <td>2018-06-21</td>\n",
    "     <td>Croatia</td>\n",
    "     <td>Argentina</td>\n",
    "     <td>2</td>\n",
    "     <td>1</td>\n",
    "    </tr>\n",
    "  </table>\n",
    "<html>\n",
    "\"\"\""
   ]
  },
  {
   "cell_type": "code",
   "execution_count": 3,
   "metadata": {},
   "outputs": [
    {
     "name": "stdout",
     "output_type": "stream",
     "text": [
      "<tr>\n",
      "<th>Name</th>\n",
      "<th>Date</th>\n",
      "<th>Team</th>\n",
      "<th>Opp</th>\n",
      "<th>Shots</th>\n",
      "<th>Goals</th>\n",
      "</tr>\n",
      "<class 'bs4.element.Tag'>\n"
     ]
    }
   ],
   "source": [
    "# parsing library that takes a string of HTML and turn it into Python data\n",
    "from bs4 import BeautifulSoup as Soup\n",
    "\n",
    "html_soup = Soup(table_html)\n",
    "\n",
    "# returns the first table row \n",
    "tr_tag = html_soup.find('tr')\n",
    "print(tr_tag)\n",
    "\n",
    "# tag is the main data type\n",
    "print(type(tr_tag))"
   ]
  },
  {
   "cell_type": "code",
   "execution_count": 4,
   "metadata": {},
   "outputs": [
    {
     "name": "stdout",
     "output_type": "stream",
     "text": [
      "<class 'bs4.element.Tag'>\n",
      "<class 'bs4.element.Tag'>\n",
      "Lionel Messi\n"
     ]
    }
   ],
   "source": [
    "# entire table \n",
    "table_tag = html_soup.find('table')\n",
    "print(type(table_tag))\n",
    "\n",
    "td_tag = html_soup.find('td')\n",
    "print(type(td_tag))\n",
    "\n",
    "# convert to regular python string \n",
    "print(str(td_tag.string))"
   ]
  },
  {
   "cell_type": "code",
   "execution_count": 8,
   "metadata": {},
   "outputs": [
    {
     "name": "stdout",
     "output_type": "stream",
     "text": [
      "[<th>Name</th>, <th>Date</th>, <th>Team</th>, <th>Opp</th>, <th>Shots</th>, <th>Goals</th>]\n",
      "['Name', 'Date', 'Team', 'Opp', 'Shots', 'Goals']\n",
      "[<td>Lionel Messi</td>, <td>2018-06-16</td>, <td>Argentina</td>, <td>Iceland</td>, <td>7</td>, <td>0</td>, <td>Luka Modric</td>, <td>2018-06-21</td>, <td>Croatia</td>, <td>Argentina</td>, <td>2</td>, <td>1</td>]\n",
      "[<td>Lionel Messi</td>, <td>2018-06-16</td>, <td>Argentina</td>, <td>Iceland</td>, <td>7</td>, <td>0</td>]\n",
      "[[<td>Lionel Messi</td>, <td>2018-06-16</td>, <td>Argentina</td>, <td>Iceland</td>, <td>7</td>, <td>0</td>], [<td>Luka Modric</td>, <td>2018-06-21</td>, <td>Croatia</td>, <td>Argentina</td>, <td>2</td>, <td>1</td>]]\n",
      "[<th>Name</th>, <th>Date</th>, <th>Team</th>, <th>Opp</th>, <th>Shots</th>, <th>Goals</th>, <td>Lionel Messi</td>, <td>2018-06-16</td>, <td>Argentina</td>, <td>Iceland</td>, <td>7</td>, <td>0</td>, <td>Luka Modric</td>, <td>2018-06-21</td>, <td>Croatia</td>, <td>Argentina</td>, <td>2</td>, <td>1</td>]\n"
     ]
    }
   ],
   "source": [
    "# nested tags \n",
    "print(tr_tag.find_all('th'))\n",
    "print([str(x.string) for x in tr_tag.find_all('th')])\n",
    "\n",
    "# all td tags in a flat list \n",
    "all_td_tags = table_tag.find_all('td')\n",
    "print(all_td_tags)\n",
    "\n",
    "# rows\n",
    "all_rows = table_tag.find_all('tr')\n",
    "first_data_row = all_rows[1]  # 0 is header\n",
    "print(first_data_row.find_all('td'))\n",
    "\n",
    "# skip first row \n",
    "list_of_td_lists = [x.find_all('td') for x in all_rows[1:]]\n",
    "print(list_of_td_lists)\n",
    "\n",
    "# find both tags\n",
    "all_td_and_th_tags = table_tag.find_all(('td', 'th'))\n",
    "print(all_td_and_th_tags)"
   ]
  }
 ],
 "metadata": {
  "kernelspec": {
   "display_name": "Python 3",
   "language": "python",
   "name": "python3"
  },
  "language_info": {
   "codemirror_mode": {
    "name": "ipython",
    "version": 3
   },
   "file_extension": ".py",
   "mimetype": "text/x-python",
   "name": "python",
   "nbconvert_exporter": "python",
   "pygments_lexer": "ipython3",
   "version": "3.10.2"
  },
  "orig_nbformat": 4
 },
 "nbformat": 4,
 "nbformat_minor": 2
}
