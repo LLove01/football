{
 "cells": [
  {
   "cell_type": "code",
   "execution_count": 1,
   "metadata": {},
   "outputs": [],
   "source": [
    "import pandas as pd\n",
    "from os import path\n",
    "\n",
    "# Directory where data is stored\n",
    "DATA_DIR = '../resources/code-soccer-files-main/data'\n",
    "\n",
    "# Load the CSV data\n",
    "df = pd.read_csv(path.join(DATA_DIR, 'player_match.csv'))"
   ]
  },
  {
   "cell_type": "code",
   "execution_count": 2,
   "metadata": {},
   "outputs": [],
   "source": [
    "# Fill missing values with 0\n",
    "df.fillna(0, inplace=True)\n",
    "\n",
    "# Group by player_id and aggregate\n",
    "columns_to_convert = ['shot', 'goal', 'goal_allowed', 'assist', 'pass', 'pass_accurate', 'tackle', \n",
    "                     'accel', 'counter', 'opportunity', 'keypass', 'own_goal', 'interception', \n",
    "                     'smart', 'clearance', 'cross', 'air_duel', 'air_duel_won', 'gk_leave_line', \n",
    "                     'gk_save_attempt', 'throw', 'corner']\n",
    "\n",
    "agg_funcs = {col: 'sum' for col in columns_to_convert}\n",
    "agg_funcs['min'] = 'sum'  # Make sure to sum up the minutes as well\n",
    "grouped = df.groupby('player_id').agg(agg_funcs).reset_index()\n",
    "\n",
    "# a small value to avoid division by zero\n",
    "epsilon = 1e-10 \n",
    "\n",
    "# Calculate per 90 metrics for relevant columns\n",
    "for col in columns_to_convert:\n",
    "    grouped[col+'_per_90'] = (grouped[col] / (grouped['min'] + epsilon)) * 90\n",
    "\n",
    "# Save the grouped DataFrame to a new CSV file\n",
    "grouped.to_csv('player_per_90.csv', index=False)"
   ]
  },
  {
   "cell_type": "code",
   "execution_count": 3,
   "metadata": {},
   "outputs": [],
   "source": [
    "from sklearn.preprocessing import StandardScaler\n",
    "\n",
    "# Create a copy of the grouped DataFrame for normalization\n",
    "normalized_per_90 = grouped.copy()\n",
    "\n",
    "# Normalize the per 90 metrics\n",
    "scaler = StandardScaler()\n",
    "columns_to_normalize = [col+'_per_90' for col in columns_to_convert]\n",
    "normalized_per_90[columns_to_normalize] = scaler.fit_transform(normalized_per_90[columns_to_normalize])\n",
    "\n",
    "# Save the grouped DataFrame to a CSV file\n",
    "grouped.to_csv('player_per_90.csv', index=False)\n",
    "\n",
    "# Save the normalized DataFrame to a new CSV file\n",
    "normalized_per_90.to_csv('player_per_90_normalized.csv', index=False)"
   ]
  },
  {
   "cell_type": "code",
   "execution_count": 4,
   "metadata": {},
   "outputs": [],
   "source": [
    "import faiss\n",
    "import numpy as np\n",
    "\n",
    "# Assuming df_normalized from previous steps is your DataFrame with player vectors\n",
    "vectors = normalized_per_90.values.astype('float32')\n",
    "\n",
    "# Build the index\n",
    "index = faiss.IndexFlatL2(vectors.shape[1])\n",
    "index.add(vectors)\n",
    "\n",
    "# Search for the 5 most similar players to the player at index 0\n",
    "D, I = index.search(vectors[0:1], 5)"
   ]
  },
  {
   "cell_type": "code",
   "execution_count": 5,
   "metadata": {},
   "outputs": [],
   "source": [
    "# 1. Load the CSV file and extract only the player_id and player_name columns\n",
    "names_df = pd.read_csv(path.join(DATA_DIR, 'players.csv'))[['player_id', 'player_name']]\n",
    "\n",
    "# 1. Create transformations for player_id to player_name and vice versa using names_df\n",
    "id_to_name = pd.Series(names_df.player_name.values, index=names_df.player_id).to_dict()\n",
    "name_to_id = {v: k for k, v in id_to_name.items()}\n",
    "\n",
    "# Adjust the id_to_index and index_to_id mappings to use the player IDs from normalized_df\n",
    "id_to_index = {player_id: idx for idx, player_id in enumerate(normalized_per_90['player_id'])}\n",
    "index_to_id = {idx: player_id for player_id, idx in id_to_index.items()}\n"
   ]
  },
  {
   "cell_type": "code",
   "execution_count": 6,
   "metadata": {},
   "outputs": [],
   "source": [
    "def rank_players(columns_dict, k=5):\n",
    "    \"\"\"\n",
    "    Returns the k players based on aggregate ranking across specified columns.\n",
    "    \n",
    "    Parameters:\n",
    "    - columns_dict (dict): Dictionary where keys are column names and values are booleans.\n",
    "                           If True, sort column in descending order. If False, sort in ascending order.\n",
    "    - k (int): Number of players to return.\n",
    "    \n",
    "    Returns:\n",
    "    - List of player names.\n",
    "    \"\"\"\n",
    "    \n",
    "    # Check if all columns in columns_dict exist in normalized_df\n",
    "    for column in columns_dict:\n",
    "        if column not in normalized_per_90.columns:\n",
    "            return f\"Column {column} not found in the dataset.\"\n",
    "    \n",
    "    # Create a rank DataFrame\n",
    "    rank_df = pd.DataFrame()\n",
    "    for column, high in columns_dict.items():\n",
    "        rank_df[column] = normalized_per_90[column].rank(ascending=not high)\n",
    "    \n",
    "    # Calculate aggregate rank across columns\n",
    "    rank_df['aggregate_rank'] = rank_df.sum(axis=1)\n",
    "    \n",
    "    # Sort players based on aggregate rank\n",
    "    sorted_df = rank_df.sort_values(by='aggregate_rank')\n",
    "    \n",
    "    # Get the top k player_ids based on aggregate rank\n",
    "    top_k_ids = normalized_per_90.iloc[sorted_df.head(k).index]['player_id'].tolist()\n",
    "    \n",
    "    # Convert player_ids to player names using id_to_name\n",
    "    top_k_names = [id_to_name[player_id] for player_id in top_k_ids]\n",
    "    \n",
    "    return top_k_names"
   ]
  },
  {
   "cell_type": "code",
   "execution_count": 7,
   "metadata": {},
   "outputs": [
    {
     "name": "stdout",
     "output_type": "stream",
     "text": [
      "Top 5 players based on aggregate ranking across ['shot', 'goal']:\n",
      "['M. Berg', 'O. Giroud', 'R. Sterling', 'Trézéguet', 'Gabriel Jesus']\n"
     ]
    }
   ],
   "source": [
    "# Test the function\n",
    "columns_dict = {\n",
    "    \"shot\": True,   # Highest players\n",
    "    \"goal\": False  # Lowest players\n",
    "}\n",
    "print(f\"Top 5 players based on aggregate ranking across {list(columns_dict.keys())}:\")\n",
    "print(rank_players(columns_dict, k=5))"
   ]
  }
 ],
 "metadata": {
  "kernelspec": {
   "display_name": "Python 3",
   "language": "python",
   "name": "python3"
  },
  "language_info": {
   "codemirror_mode": {
    "name": "ipython",
    "version": 3
   },
   "file_extension": ".py",
   "mimetype": "text/x-python",
   "name": "python",
   "nbconvert_exporter": "python",
   "pygments_lexer": "ipython3",
   "version": "3.10.2"
  },
  "orig_nbformat": 4
 },
 "nbformat": 4,
 "nbformat_minor": 2
}
