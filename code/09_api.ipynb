{
 "cells": [
  {
   "cell_type": "code",
   "execution_count": 3,
   "metadata": {},
   "outputs": [
    {
     "name": "stdout",
     "output_type": "stream",
     "text": [
      "   player_id                 name position team  adp adp_formatted  \\\n",
      "0       2434  Christian McCaffrey       RB  CAR  1.2          1.01   \n",
      "1       2860       Saquon Barkley       RB  NYG  2.5          1.03   \n",
      "2       2343      Ezekiel Elliott       RB  DAL  3.4          1.03   \n",
      "3       2439         Alvin Kamara       RB   NO  4.9          1.05   \n",
      "4       2357       Michael Thomas       WR   NO  5.6          1.06   \n",
      "\n",
      "   times_drafted  high  low  stdev  bye  \n",
      "0            936     1    4    0.5    7  \n",
      "1            960     1    6    0.7   13  \n",
      "2            521     1   11    1.6    7  \n",
      "3            960     1   12    1.3   11  \n",
      "4            811     1   11    1.6   11  \n",
      "\n",
      "   player_id                 name position team  adp adp_formatted  \\\n",
      "0       2860       Saquon Barkley       RB  NYG  1.9          1.02   \n",
      "1       2439         Alvin Kamara       RB   NO  2.4          1.02   \n",
      "2       2434  Christian McCaffrey       RB  CAR  3.6          1.04   \n",
      "3       2343      Ezekiel Elliott       RB  DAL  3.8          1.04   \n",
      "4       2470         James Conner       RB  PIT  6.1          1.06   \n",
      "\n",
      "   times_drafted  high  low  stdev  bye  year  teams  \n",
      "0            185     1    4    0.8   13  2019     10  \n",
      "1             90     1    4    0.8   11  2019     10  \n",
      "2            112     1    6    1.1    7  2019     10  \n",
      "3             67     1    6    1.0    7  2019     10  \n",
      "4             79     1   12    1.6    6  2019     10  \n"
     ]
    }
   ],
   "source": [
    "import requests\n",
    "from pandas import DataFrame\n",
    "import pandas as pd\n",
    "\n",
    "fc_url = 'https://fantasyfootballcalculator.com/api/v1/adp/ppr?teams=12&year=2020'\n",
    "\n",
    "resp = requests.get(fc_url)\n",
    "\n",
    "df = DataFrame(resp.json()['players'])\n",
    "print(df.head())\n",
    "print()\n",
    "\n",
    "def fc_adp(scoring='ppr', teams=12, year=2020):\n",
    "    ffc_com = 'https://fantasyfootballcalculator.com'\n",
    "    resp = requests.get(\n",
    "        f'{ffc_com}/api/v1/adp/{scoring}?teams={teams}&year={year}'\n",
    "    )\n",
    "    df = DataFrame(resp.json()['players'])\n",
    "\n",
    "    # data doesn't come with teams, year columns, let's add them\n",
    "    df['year'] = year\n",
    "    df['teams'] = teams\n",
    "    return df\n",
    "\n",
    "df_10_std = fc_adp('standard', 10, 2019)\n",
    "print(df_10_std.head())\n",
    "\n",
    "df_history = pd.concat(\n",
    "    [fc_adp('standard', 12, year=y) for y in range(2009, 2020)],\n",
    "    ignore_index=True)"
   ]
  }
 ],
 "metadata": {
  "kernelspec": {
   "display_name": "Python 3",
   "language": "python",
   "name": "python3"
  },
  "language_info": {
   "codemirror_mode": {
    "name": "ipython",
    "version": 3
   },
   "file_extension": ".py",
   "mimetype": "text/x-python",
   "name": "python",
   "nbconvert_exporter": "python",
   "pygments_lexer": "ipython3",
   "version": "3.10.2"
  },
  "orig_nbformat": 4
 },
 "nbformat": 4,
 "nbformat_minor": 2
}
